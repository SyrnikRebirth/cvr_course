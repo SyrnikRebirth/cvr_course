{
  "nbformat": 4,
  "nbformat_minor": 0,
  "metadata": {
    "kernelspec": {
      "display_name": "Python 3",
      "language": "python",
      "name": "python3"
    },
    "language_info": {
      "codemirror_mode": {
        "name": "ipython",
        "version": 3
      },
      "file_extension": ".py",
      "mimetype": "text/x-python",
      "name": "python",
      "nbconvert_exporter": "python",
      "pygments_lexer": "ipython3",
      "version": "3.6.9"
    },
    "colab": {
      "name": "github_hw1.ipynb",
      "provenance": []
    }
  },
  "cells": [
    {
      "cell_type": "markdown",
      "metadata": {
        "id": "pIYsshUwyWY2"
      },
      "source": [
        "# Домашнее задание\n",
        "Домашнее задание выполнять в этой тетрадке. \n",
        "\n",
        "- [x] Сделать fork репозитория cvr_cource (https://github.com/StarkitRobots/cvr_course) - 1 балл\n",
        "- [ ] Создать ветку update_readme - 1 балл\n",
        "- [ ] Добавить одну строчку в README.md \n",
        "- [ ] Запушить (git push) изменения в ветку update_readme - 3 балла\n",
        "- [ ] Слить (merge) ветку update_readme в ветку develop - 1 балл\n",
        "- [ ] Сохранить эту тетрадку с выполненной домашкой себе в репозиторий в ветку develop - 3 балла\n",
        "- [ ] Слить (merge) ветку develop в ветку main - 1 балл"
      ]
    },
    {
      "cell_type": "markdown",
      "metadata": {
        "id": "x7M5YiMNyWY5"
      },
      "source": [
        "Материалы к семинару:\n",
        "1. [Удачная модель ветвления](https://m.habr.com/ru/post/106912/)\n",
        "2. [Зачем нужен Git](https://guides.hexlet.io/git-guide/)\n",
        "3. [Самые популярные ошибки и их решения](https://tproger.ru/translations/most-common-git-screwupsquestions-and-solutions/)\n",
        "4. [Ветвление](https://git-scm.com/book/ru/v2/%D0%92%D0%B5%D1%82%D0%B2%D0%BB%D0%B5%D0%BD%D0%B8%D0%B5-%D0%B2-Git-%D0%9E-%D0%B2%D0%B5%D1%82%D0%B2%D0%BB%D0%B5%D0%BD%D0%B8%D0%B8-%D0%B2-%D0%B4%D0%B2%D1%83%D1%85-%D1%81%D0%BB%D0%BE%D0%B2%D0%B0%D1%85)\n",
        "5. [Инструкция по всему Git](https://git-scm.com/book/ru/v2)\n",
        "6. [Приложение для обучения Git](https://learngitbranching.js.org/?locale=ru_RU), спасибо Анне Касаткиной за ссылку на отличный материал"
      ]
    },
    {
      "cell_type": "code",
      "metadata": {
        "id": "asMJXysk_LrT",
        "outputId": "6c36c81f-46d4-4b21-8eb9-e3a69d524fe0",
        "colab": {
          "base_uri": "https://localhost:8080/",
          "height": 121
        }
      },
      "source": [
        "!git clone https://github.com/SyrnikRebirth/cvr_course.git"
      ],
      "execution_count": 26,
      "outputs": [
        {
          "output_type": "stream",
          "text": [
            "Cloning into 'cvr_course'...\n",
            "remote: Enumerating objects: 7, done.\u001b[K\n",
            "remote: Counting objects: 100% (7/7), done.\u001b[K\n",
            "remote: Compressing objects: 100% (7/7), done.\u001b[K\n",
            "remote: Total 94 (delta 1), reused 1 (delta 0), pack-reused 87\u001b[K\n",
            "Unpacking objects: 100% (94/94), done.\n"
          ],
          "name": "stdout"
        }
      ]
    },
    {
      "cell_type": "code",
      "metadata": {
        "id": "C_fQV0uF_PTH",
        "outputId": "81452196-684c-4c93-fe31-e6cf082b2e19",
        "colab": {
          "base_uri": "https://localhost:8080/",
          "height": 34
        }
      },
      "source": [
        "ls"
      ],
      "execution_count": 27,
      "outputs": [
        {
          "output_type": "stream",
          "text": [
            "\u001b[0m\u001b[01;34mcvr_course\u001b[0m/  \u001b[01;34msample_data\u001b[0m/\n"
          ],
          "name": "stdout"
        }
      ]
    },
    {
      "cell_type": "code",
      "metadata": {
        "id": "2cS1iWoy_czA",
        "outputId": "3e16c781-d771-43ab-8fc7-fe181473b019",
        "colab": {
          "base_uri": "https://localhost:8080/",
          "height": 34
        }
      },
      "source": [
        "cd cvr_course/"
      ],
      "execution_count": 28,
      "outputs": [
        {
          "output_type": "stream",
          "text": [
            "/content/cvr_course\n"
          ],
          "name": "stdout"
        }
      ]
    },
    {
      "cell_type": "code",
      "metadata": {
        "id": "xbD7FXdC_orr",
        "outputId": "6cf03695-fc3a-40b6-c75e-0529a8836bd4",
        "colab": {
          "base_uri": "https://localhost:8080/",
          "height": 34
        }
      },
      "source": [
        "ls"
      ],
      "execution_count": 29,
      "outputs": [
        {
          "output_type": "stream",
          "text": [
            "\u001b[0m\u001b[01;34mdata\u001b[0m/  \u001b[01;34mnotebooks\u001b[0m/  README.md\n"
          ],
          "name": "stdout"
        }
      ]
    },
    {
      "cell_type": "code",
      "metadata": {
        "id": "9qiJ0y7-_pyG",
        "outputId": "43a9627c-3ccc-49f0-bcad-19149fff3e73",
        "colab": {
          "base_uri": "https://localhost:8080/",
          "height": 173
        }
      },
      "source": [
        "cat README.md"
      ],
      "execution_count": 32,
      "outputs": [
        {
          "output_type": "stream",
          "text": [
            "# Computer Vision in Robotics\n",
            "\n",
            "<img src=\"./.img/logo_for_form.png\" height=\"350\" />\n",
            "\n",
            "\n",
            "Visit our site <https://www.starkitrobots.com/cvr> to check content.\n",
            "Course is online and will be carried out on our *[YouTube chanel](https://www.youtube.com/channel/UC0QPJgfg17wCqf4-hG_A5OA)*.\n",
            "\n",
            "Волк слабее льва и тигра, но в цирке не выступает!\n"
          ],
          "name": "stdout"
        }
      ]
    },
    {
      "cell_type": "markdown",
      "metadata": {
        "id": "lwB0drzuAnSa"
      },
      "source": [
        "Если честно, то всю работу с втеками и пушами я делал локально, так что README.md уже изменен. Вооот"
      ]
    },
    {
      "cell_type": "code",
      "metadata": {
        "id": "8Lx6lfes__20"
      },
      "source": [
        ""
      ],
      "execution_count": null,
      "outputs": []
    }
  ]
}